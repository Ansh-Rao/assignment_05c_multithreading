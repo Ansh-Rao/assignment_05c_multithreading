{
 "cells": [
  {
   "cell_type": "markdown",
   "id": "34156155-281c-4b32-81a2-b684bb7d6dd8",
   "metadata": {},
   "source": [
    "#### Q1). What is multithreading in python? Why is it used? Name the module used to handle threads in python."
   ]
  },
  {
   "cell_type": "code",
   "execution_count": 1,
   "id": "efabc0d2-8c98-4bf1-9ef6-3f5b5d39021f",
   "metadata": {},
   "outputs": [],
   "source": [
    "# Multithreading is defined as the ability of a processor to execute multiple threads concurrently."
   ]
  },
  {
   "cell_type": "code",
   "execution_count": 2,
   "id": "976fe795-f4e6-47e7-bec8-67c3d2fb6004",
   "metadata": {},
   "outputs": [],
   "source": [
    "# It is used to utilize cpu and to improve its performance."
   ]
  },
  {
   "cell_type": "code",
   "execution_count": 3,
   "id": "096bb5f4-1104-461e-b300-0512e9e110a6",
   "metadata": {},
   "outputs": [],
   "source": [
    "# \"Threading module\" used to handle threads in python."
   ]
  },
  {
   "cell_type": "code",
   "execution_count": null,
   "id": "adc3ede9-3a4b-4fa2-b33b-1eb6708ad113",
   "metadata": {},
   "outputs": [],
   "source": []
  },
  {
   "cell_type": "markdown",
   "id": "97cdd784-b0ac-4051-9bfd-519f65fd8421",
   "metadata": {},
   "source": [
    "#### Q2) Why threading module used? write the use of the following functions.\n",
    "\n",
    "#### 1. activeCount()\n",
    "#### 2. currentThread()\n",
    "#### 3. enumerate()"
   ]
  },
  {
   "cell_type": "code",
   "execution_count": 4,
   "id": "535e4ad9-77de-4104-8b8a-982fd6a37aff",
   "metadata": {},
   "outputs": [],
   "source": [
    "#  Threading module is used for creating, controlling and managing threads."
   ]
  },
  {
   "cell_type": "code",
   "execution_count": 7,
   "id": "0bafb699-9aea-4436-9a83-cb73b96ba967",
   "metadata": {},
   "outputs": [],
   "source": [
    "# 1.  ActiveCount() − Returns the number of thread objects that are active."
   ]
  },
  {
   "cell_type": "code",
   "execution_count": 6,
   "id": "22545bbb-1f72-4462-8273-00dd81ca5703",
   "metadata": {},
   "outputs": [],
   "source": [
    "# 2. CurrentThread() − Returns the number of thread objects in the caller's thread control."
   ]
  },
  {
   "cell_type": "code",
   "execution_count": 8,
   "id": "19ac91c7-ff97-4589-9e24-fb60d11ef86e",
   "metadata": {},
   "outputs": [],
   "source": [
    "# 3. Enumerate() − Returns a list of all thread objects that are currently active."
   ]
  },
  {
   "cell_type": "code",
   "execution_count": null,
   "id": "50bc1c27-3a8a-4703-8a5d-763ecba434ee",
   "metadata": {},
   "outputs": [],
   "source": []
  },
  {
   "cell_type": "markdown",
   "id": "b9db6045-912a-47db-a699-400d9a58694b",
   "metadata": {},
   "source": [
    "#### Q3) Explain the following functions:\n",
    "#### 1. run()\n",
    "#### 2. start()\n",
    "#### 3. join()\n",
    "#### 4. isAlive()"
   ]
  },
  {
   "cell_type": "code",
   "execution_count": 9,
   "id": "a7a6b367-b2d4-4d34-95ca-df44fc6eff48",
   "metadata": {},
   "outputs": [],
   "source": [
    "\n",
    "# run()  − The run() method is the entry point for a thread.\n",
    "\n",
    "# start()  − The start() method starts a thread by calling the run method.\n",
    "\n",
    "# join([time])  − The join() waits for threads to terminate.\n",
    "\n",
    "# isAlive()  − The isAlive() method checks whether a thread is still executing."
   ]
  },
  {
   "cell_type": "code",
   "execution_count": null,
   "id": "07afb2dc-6b96-49d6-8c16-92844d5d1585",
   "metadata": {},
   "outputs": [],
   "source": []
  },
  {
   "cell_type": "markdown",
   "id": "e2d0b7b1-9bb5-4dc7-a7f6-3f05cbe4061b",
   "metadata": {},
   "source": [
    "#### Q4)  Write a python program to create two threads. Thread one must print the list of squares and thread\n",
    "####      two must print the list of cubes."
   ]
  },
  {
   "cell_type": "code",
   "execution_count": 61,
   "id": "33509284-e4b8-48df-bc6d-db8b115f5c1b",
   "metadata": {},
   "outputs": [],
   "source": [
    "import threading"
   ]
  },
  {
   "cell_type": "code",
   "execution_count": 56,
   "id": "33e1fea8-c5db-4949-ac78-aac0261b405f",
   "metadata": {},
   "outputs": [],
   "source": [
    "def square(num):\n",
    "    print(\"{}\".format(num * num))"
   ]
  },
  {
   "cell_type": "code",
   "execution_count": 59,
   "id": "3a562139-f5ea-4f19-8afc-0799510978e8",
   "metadata": {},
   "outputs": [],
   "source": [
    "thread = [threading.Thread(target=square, args=(i,))  for i in  range(1,10)]"
   ]
  },
  {
   "cell_type": "code",
   "execution_count": 60,
   "id": "100377e2-4014-49fa-bc71-6a9790b40ecf",
   "metadata": {},
   "outputs": [
    {
     "name": "stdout",
     "output_type": "stream",
     "text": [
      "1\n",
      "4\n",
      "9\n",
      "16\n",
      "25\n",
      "36\n",
      "49\n",
      "64\n",
      "81\n"
     ]
    }
   ],
   "source": [
    "for t in thread :\n",
    "    t.start()"
   ]
  },
  {
   "cell_type": "code",
   "execution_count": 62,
   "id": "795b47dc-73f0-4cd9-97ed-f33bc65a9376",
   "metadata": {},
   "outputs": [],
   "source": [
    "def cube(num): \n",
    "    print(\"{}\" .format(num * num * num))"
   ]
  },
  {
   "cell_type": "code",
   "execution_count": 63,
   "id": "d9c8b5b3-c844-4b46-98ba-8041efc97662",
   "metadata": {},
   "outputs": [],
   "source": [
    "thread1 = [threading.Thread(target=cube, args=(i,))  for i in  range(1,10)]"
   ]
  },
  {
   "cell_type": "code",
   "execution_count": 64,
   "id": "63f79d88-2ea2-4d61-af19-27f9dba35ebd",
   "metadata": {},
   "outputs": [
    {
     "name": "stdout",
     "output_type": "stream",
     "text": [
      "1\n",
      "8\n",
      "27\n",
      "64\n",
      "125\n",
      "216\n",
      "343\n",
      "512\n",
      "729\n"
     ]
    }
   ],
   "source": [
    "for t in thread1 :\n",
    "    t.start()"
   ]
  },
  {
   "cell_type": "code",
   "execution_count": null,
   "id": "cc098c95-208b-4782-8a70-783de484b165",
   "metadata": {},
   "outputs": [],
   "source": []
  },
  {
   "cell_type": "markdown",
   "id": "8b7dd7db-89a7-4919-b93b-b49805c7256d",
   "metadata": {},
   "source": [
    "#### Q5) State advantages and disadvantages of multithreading."
   ]
  },
  {
   "cell_type": "code",
   "execution_count": 66,
   "id": "bf6c10c8-837c-4513-913a-7dca7b963a7d",
   "metadata": {},
   "outputs": [],
   "source": [
    "# Advantages of multithreading:\n",
    "\n",
    "# - Improved performance and concurrency\n",
    "# - Simplified coding of remote procedure calls and conversations\n",
    "# - Simultaneous access to multiple applications\n",
    "# - Reduced number of required servers"
   ]
  },
  {
   "cell_type": "code",
   "execution_count": 67,
   "id": "a3149be6-03b9-4f39-a927-33c8fe98cf96",
   "metadata": {},
   "outputs": [],
   "source": [
    "# Disadvantages of multithreading:\n",
    "\n",
    "# - Difficulty of writing code.\n",
    "# - Difficulty of debugging\n",
    "# - Difficulty of managing concurrency\n",
    "# - Difficulty of testing."
   ]
  },
  {
   "cell_type": "code",
   "execution_count": null,
   "id": "6dc4b8a0-d531-4e2b-88f1-487850bb6f76",
   "metadata": {},
   "outputs": [],
   "source": []
  },
  {
   "cell_type": "markdown",
   "id": "5919aced-b12e-45bc-9fda-a7c856e2152c",
   "metadata": {},
   "source": [
    "#### Q6) Explain deadlocks and race conditions."
   ]
  },
  {
   "cell_type": "code",
   "execution_count": 69,
   "id": "6dcb6a39-6a0d-4c40-b96c-f090960ee328",
   "metadata": {},
   "outputs": [],
   "source": [
    "# A deadlock is a situation in which two computer programs sharing the same resource are effectively preventing each other\n",
    "# from accessing the resource, resulting in both programs ceasing to function.."
   ]
  },
  {
   "cell_type": "code",
   "execution_count": null,
   "id": "2d6f1f03-0782-4589-967a-0be2f78265e0",
   "metadata": {},
   "outputs": [],
   "source": [
    "# A race condition occurs when two threads use the same variable at a given time."
   ]
  }
 ],
 "metadata": {
  "kernelspec": {
   "display_name": "Python 3 (ipykernel)",
   "language": "python",
   "name": "python3"
  },
  "language_info": {
   "codemirror_mode": {
    "name": "ipython",
    "version": 3
   },
   "file_extension": ".py",
   "mimetype": "text/x-python",
   "name": "python",
   "nbconvert_exporter": "python",
   "pygments_lexer": "ipython3",
   "version": "3.10.8"
  }
 },
 "nbformat": 4,
 "nbformat_minor": 5
}
